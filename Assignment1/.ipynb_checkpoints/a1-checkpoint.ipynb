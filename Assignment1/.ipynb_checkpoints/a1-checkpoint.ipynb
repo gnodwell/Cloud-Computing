{
 "cells": [
  {
   "cell_type": "code",
   "execution_count": 12,
   "id": "f4381716",
   "metadata": {},
   "outputs": [],
   "source": [
    "import boto3\n",
    "import json"
   ]
  },
  {
   "cell_type": "code",
   "execution_count": 2,
   "id": "7de99da3",
   "metadata": {},
   "outputs": [],
   "source": [
    "s3=boto3.resource('s3')"
   ]
  },
  {
   "cell_type": "code",
   "execution_count": 4,
   "id": "85788156",
   "metadata": {},
   "outputs": [
    {
     "name": "stdout",
     "output_type": "stream",
     "text": [
      "0my-eu-bucket-3\n",
      "1docexamplebucket1\n",
      "4010-gnodwell\n",
      "4010-nsingh34\n",
      "4020-my-hosted-content\n",
      "cis4010-abokhari\n",
      "cis4010-achatha\n",
      "cis4010-achow03\n",
      "cis4010-aclinans\n",
      "cis4010-aniketbh\n",
      "cis4010-anupta\n",
      "cis4010-aren01\n",
      "cis4010-aschropp\n",
      "cis4010-asyed12\n",
      "cis4010-atees\n",
      "cis4010-avande16\n",
      "cis4010-avanhooy\n",
      "cis4010-bealj\n",
      "cis4010-blit\n",
      "cis4010-bskurikh\n",
      "cis4010-cvandood\n",
      "cis4010-dixant\n",
      "cis4010-dsolus\n",
      "cis4010-edykhne\n",
      "cis4010-epark03\n",
      "cis4010-esfandia\n",
      "cis4010-gorayas\n",
      "cis4010-grochlit\n",
      "cis4010-jcoffa\n",
      "cis4010-kraymond\n",
      "cis4010-kswatch\n",
      "cis4010-lcrocket\n",
      "cis4010-malobaid\n",
      "cis4010-mradocch\n",
      "cis4010-nabrey\n",
      "cis4010-nihar\n",
      "cis4010-nmir\n",
      "cis4010-nmirtest\n",
      "cis4010-nsingh34\n",
      "cis4010-nsingh36\n",
      "cis4010-nsingh40\n",
      "cis4010-nsingh41\n",
      "cis4010-oyako\n",
      "cis4010-pmiglani\n",
      "cis4010-ppatel23\n",
      "cis4010-prof\n",
      "cis4010-rollins\n",
      "cis4010-rpaul06\n",
      "cis4010-ruchj\n",
      "cis4010-rwiskail\n",
      "cis4010-shepherj\n",
      "cis4010-snim\n",
      "cis4010-taghera\n",
      "cis4010-tarsen01\n",
      "cis4010-umer\n",
      "cis4010-wmoskal\n",
      "cis4010-ygu06\n",
      "cis4010-ymei\n",
      "cis4010b01\n",
      "cis4010my-eu-bucket-3\n",
      "cis4020-lianx\n",
      "cis40210-nsingh35\n",
      "my-hostes-service\n"
     ]
    }
   ],
   "source": [
    "for bucket in s3.buckets.all():\n",
    "    print(bucket.name)"
   ]
  },
  {
   "cell_type": "code",
   "execution_count": 18,
   "id": "a155c082",
   "metadata": {},
   "outputs": [
    {
     "name": "stdout",
     "output_type": "stream",
     "text": [
      "{'ResponseMetadata': {'RequestId': 'CA3D5N6S2Q5T6TJW', 'HostId': 'i9Ryz8uPdUYrGTfoH5AAsRCeEF2zaoyd0cFqM78o9lErpzsS45ylVsJKMzC7TTB/fD2lyeH1bug=', 'HTTPStatusCode': 200, 'HTTPHeaders': {'x-amz-id-2': 'i9Ryz8uPdUYrGTfoH5AAsRCeEF2zaoyd0cFqM78o9lErpzsS45ylVsJKMzC7TTB/fD2lyeH1bug=', 'x-amz-request-id': 'CA3D5N6S2Q5T6TJW', 'date': 'Thu, 23 Sep 2021 20:33:52 GMT', 'content-type': 'application/xml', 'transfer-encoding': 'chunked', 'server': 'AmazonS3'}, 'RetryAttempts': 1}, 'Owner': {'ID': '5362ac780ed96acba672d24e2bddae16dc69459e0f6621205e768b62b4b326be'}, 'Grants': [{'Grantee': {'ID': '5362ac780ed96acba672d24e2bddae16dc69459e0f6621205e768b62b4b326be', 'Type': 'CanonicalUser'}, 'Permission': 'FULL_CONTROL'}]}\n"
     ]
    }
   ],
   "source": [
    "s3 = boto3.client('s3')\n",
    "result = s3.get_bucket_acl(Bucket='cis4010-gnodwell')\n",
    "print(result)"
   ]
  },
  {
   "cell_type": "code",
   "execution_count": 30,
   "id": "dbe782ba",
   "metadata": {},
   "outputs": [],
   "source": [
    "s3_resource = boto3.resource('s3')\n",
    "\n",
    "myBucket = s3_resource.Bucket('cis4010-gnodwell')"
   ]
  },
  {
   "cell_type": "code",
   "execution_count": 37,
   "id": "6918adcd",
   "metadata": {},
   "outputs": [
    {
     "data": {
      "text/plain": [
       "[{'Grantee': {'ID': '5362ac780ed96acba672d24e2bddae16dc69459e0f6621205e768b62b4b326be',\n",
       "   'Type': 'CanonicalUser'},\n",
       "  'Permission': 'FULL_CONTROL'}]"
      ]
     },
     "execution_count": 37,
     "metadata": {},
     "output_type": "execute_result"
    }
   ],
   "source": [
    "test = myBucket.Acl()\n",
    "test.grants"
   ]
  },
  {
   "cell_type": "code",
   "execution_count": 38,
   "id": "62858540",
   "metadata": {},
   "outputs": [
    {
     "name": "stdout",
     "output_type": "stream",
     "text": [
      "s3.ObjectSummary(bucket_name='cis4010-gnodwell', key='test/test.txt')\n"
     ]
    }
   ],
   "source": [
    "for myBucketObjs in myBucket.objects.all():\n",
    "    print(myBucketObjs)"
   ]
  },
  {
   "cell_type": "code",
   "execution_count": 46,
   "id": "36a7702c",
   "metadata": {},
   "outputs": [],
   "source": [
    "sub = myBucket.Object('test/test.txt')"
   ]
  },
  {
   "cell_type": "code",
   "execution_count": 47,
   "id": "42e45cf5",
   "metadata": {},
   "outputs": [],
   "source": [
    "sub_acl = sub.Acl()"
   ]
  },
  {
   "cell_type": "code",
   "execution_count": 49,
   "id": "43708e33",
   "metadata": {},
   "outputs": [
    {
     "data": {
      "text/plain": [
       "{'ID': '5362ac780ed96acba672d24e2bddae16dc69459e0f6621205e768b62b4b326be'}"
      ]
     },
     "execution_count": 49,
     "metadata": {},
     "output_type": "execute_result"
    }
   ],
   "source": [
    "sub_acl.owner"
   ]
  },
  {
   "cell_type": "code",
   "execution_count": null,
   "id": "7b152edd",
   "metadata": {},
   "outputs": [],
   "source": []
  }
 ],
 "metadata": {
  "kernelspec": {
   "display_name": "Python 3 (ipykernel)",
   "language": "python",
   "name": "python3"
  },
  "language_info": {
   "codemirror_mode": {
    "name": "ipython",
    "version": 3
   },
   "file_extension": ".py",
   "mimetype": "text/x-python",
   "name": "python",
   "nbconvert_exporter": "python",
   "pygments_lexer": "ipython3",
   "version": "3.9.7"
  }
 },
 "nbformat": 4,
 "nbformat_minor": 5
}
